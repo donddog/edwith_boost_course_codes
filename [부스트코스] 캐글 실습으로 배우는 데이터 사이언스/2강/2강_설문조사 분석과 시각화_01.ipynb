{
  "nbformat": 4,
  "nbformat_minor": 0,
  "metadata": {
    "colab": {
      "name": "1장 캐글을 만나보자 01.ipynb",
      "provenance": [],
      "collapsed_sections": []
    },
    "kernelspec": {
      "name": "python3",
      "display_name": "Python 3"
    }
  },
  "cells": [
    {
      "cell_type": "markdown",
      "metadata": {
        "id": "WQrV1r2LFQUB",
        "colab_type": "text"
      },
      "source": [
        "#데이터 파일"
      ]
    },
    {
      "cell_type": "code",
      "metadata": {
        "id": "-wbH-0_R_jpd",
        "colab_type": "code",
        "colab": {
          "base_uri": "https://localhost:8080/",
          "height": 53
        },
        "outputId": "d3ee2e75-a2d8-4bfe-cd02-89467d367aab"
      },
      "source": [
        "# 노트북 안에서 그래프를 그리기 위해\n",
        "%matplotlib inline\n",
        "\n",
        "# Import the standard Python Scientific Libraries\n",
        "import pandas as pd\n",
        "import numpy as np\n",
        "from scipy import stats\n",
        "import matplotlib.pyplot as plt\n",
        "import seaborn as sns\n",
        "\n",
        "# Suppress Deprecation and Incorrect Usage Warnings \n",
        "import warnings\n",
        "warnings.filterwarnings('ignore')"
      ],
      "execution_count": 1,
      "outputs": [
        {
          "output_type": "stream",
          "text": [
            "/usr/local/lib/python3.6/dist-packages/statsmodels/tools/_testing.py:19: FutureWarning: pandas.util.testing is deprecated. Use the functions in the public API at pandas.testing instead.\n",
            "  import pandas.util.testing as tm\n"
          ],
          "name": "stderr"
        }
      ]
    },
    {
      "cell_type": "code",
      "metadata": {
        "id": "eIoXOjYFCWm0",
        "colab_type": "code",
        "colab": {
          "base_uri": "https://localhost:8080/",
          "height": 127
        },
        "outputId": "cae274e6-27f7-4f88-f288-419d34a1e84e"
      },
      "source": [
        "#구글 드라이브 연동하기\n",
        "#구글 드라이브에 데이터를 올린 후 사용할 경우에만 실행\n",
        "from google.colab import drive\n",
        "drive.mount('/content/drive')"
      ],
      "execution_count": 2,
      "outputs": [
        {
          "output_type": "stream",
          "text": [
            "Go to this URL in a browser: https://accounts.google.com/o/oauth2/auth?client_id=947318989803-6bn6qk8qdgf4n4g3pfee6491hc0brc4i.apps.googleusercontent.com&redirect_uri=urn%3aietf%3awg%3aoauth%3a2.0%3aoob&response_type=code&scope=email%20https%3a%2f%2fwww.googleapis.com%2fauth%2fdocs.test%20https%3a%2f%2fwww.googleapis.com%2fauth%2fdrive%20https%3a%2f%2fwww.googleapis.com%2fauth%2fdrive.photos.readonly%20https%3a%2f%2fwww.googleapis.com%2fauth%2fpeopleapi.readonly\n",
            "\n",
            "Enter your authorization code:\n",
            "··········\n",
            "Mounted at /content/drive\n"
          ],
          "name": "stdout"
        }
      ]
    },
    {
      "cell_type": "code",
      "metadata": {
        "id": "x0HPL9PT_2_a",
        "colab_type": "code",
        "colab": {
          "base_uri": "https://localhost:8080/",
          "height": 35
        },
        "outputId": "1abdb823-210b-4505-81db-1af489aa33ee"
      },
      "source": [
        "question = pd.read_csv('/content/drive/My Drive/Colab Notebooks/캐글 실습/schema.csv')\n",
        "question.shape"
      ],
      "execution_count": 3,
      "outputs": [
        {
          "output_type": "execute_result",
          "data": {
            "text/plain": [
              "(290, 3)"
            ]
          },
          "metadata": {
            "tags": []
          },
          "execution_count": 3
        }
      ]
    },
    {
      "cell_type": "code",
      "metadata": {
        "id": "Ib-ZrFsHDvmC",
        "colab_type": "code",
        "colab": {
          "base_uri": "https://localhost:8080/",
          "height": 204
        },
        "outputId": "e068acd9-77db-44c1-c7ab-9831d0ba3d60"
      },
      "source": [
        "question.tail()"
      ],
      "execution_count": 4,
      "outputs": [
        {
          "output_type": "execute_result",
          "data": {
            "text/html": [
              "<div>\n",
              "<style scoped>\n",
              "    .dataframe tbody tr th:only-of-type {\n",
              "        vertical-align: middle;\n",
              "    }\n",
              "\n",
              "    .dataframe tbody tr th {\n",
              "        vertical-align: top;\n",
              "    }\n",
              "\n",
              "    .dataframe thead th {\n",
              "        text-align: right;\n",
              "    }\n",
              "</style>\n",
              "<table border=\"1\" class=\"dataframe\">\n",
              "  <thead>\n",
              "    <tr style=\"text-align: right;\">\n",
              "      <th></th>\n",
              "      <th>Column</th>\n",
              "      <th>Question</th>\n",
              "      <th>Asked</th>\n",
              "    </tr>\n",
              "  </thead>\n",
              "  <tbody>\n",
              "    <tr>\n",
              "      <th>285</th>\n",
              "      <td>JobFactorRemote</td>\n",
              "      <td>How are you assessing potential job opportunit...</td>\n",
              "      <td>Learners</td>\n",
              "    </tr>\n",
              "    <tr>\n",
              "      <th>286</th>\n",
              "      <td>JobFactorIndustry</td>\n",
              "      <td>How are you assessing potential job opportunit...</td>\n",
              "      <td>Learners</td>\n",
              "    </tr>\n",
              "    <tr>\n",
              "      <th>287</th>\n",
              "      <td>JobFactorLeaderReputation</td>\n",
              "      <td>How are you assessing potential job opportunit...</td>\n",
              "      <td>Learners</td>\n",
              "    </tr>\n",
              "    <tr>\n",
              "      <th>288</th>\n",
              "      <td>JobFactorDiversity</td>\n",
              "      <td>How are you assessing potential job opportunit...</td>\n",
              "      <td>Learners</td>\n",
              "    </tr>\n",
              "    <tr>\n",
              "      <th>289</th>\n",
              "      <td>JobFactorPublishingOpportunity</td>\n",
              "      <td>How are you assessing potential job opportunit...</td>\n",
              "      <td>Learners</td>\n",
              "    </tr>\n",
              "  </tbody>\n",
              "</table>\n",
              "</div>"
            ],
            "text/plain": [
              "                             Column  ...     Asked\n",
              "285                 JobFactorRemote  ...  Learners\n",
              "286               JobFactorIndustry  ...  Learners\n",
              "287       JobFactorLeaderReputation  ...  Learners\n",
              "288              JobFactorDiversity  ...  Learners\n",
              "289  JobFactorPublishingOpportunity  ...  Learners\n",
              "\n",
              "[5 rows x 3 columns]"
            ]
          },
          "metadata": {
            "tags": []
          },
          "execution_count": 4
        }
      ]
    },
    {
      "cell_type": "code",
      "metadata": {
        "colab_type": "code",
        "id": "hUXMf4CyMgYo",
        "colab": {
          "base_uri": "https://localhost:8080/",
          "height": 35
        },
        "outputId": "e910c488-c6e4-4908-b103-8294ef301313"
      },
      "source": [
        "# 판다스로 선다형 객관식 문제에 대한 응답을 가져 옴\n",
        "mcq = pd.read_csv('/content/drive/My Drive/Colab Notebooks/캐글 실습/multipleChoiceResponses.csv', encoding=\"ISO-8859-1\", low_memory=False)\n",
        "mcq.shape"
      ],
      "execution_count": 5,
      "outputs": [
        {
          "output_type": "execute_result",
          "data": {
            "text/plain": [
              "(16716, 228)"
            ]
          },
          "metadata": {
            "tags": []
          },
          "execution_count": 5
        }
      ]
    },
    {
      "cell_type": "code",
      "metadata": {
        "colab_type": "code",
        "id": "EIQD1moPMgHD",
        "colab": {
          "base_uri": "https://localhost:8080/",
          "height": 179
        },
        "outputId": "a2d724ff-420b-421b-ab64-bdf223297e26"
      },
      "source": [
        "mcq.columns"
      ],
      "execution_count": 6,
      "outputs": [
        {
          "output_type": "execute_result",
          "data": {
            "text/plain": [
              "Index(['GenderSelect', 'Country', 'Age', 'EmploymentStatus', 'StudentStatus',\n",
              "       'LearningDataScience', 'CodeWriter', 'CareerSwitcher',\n",
              "       'CurrentJobTitleSelect', 'TitleFit',\n",
              "       ...\n",
              "       'JobFactorExperienceLevel', 'JobFactorDepartment', 'JobFactorTitle',\n",
              "       'JobFactorCompanyFunding', 'JobFactorImpact', 'JobFactorRemote',\n",
              "       'JobFactorIndustry', 'JobFactorLeaderReputation', 'JobFactorDiversity',\n",
              "       'JobFactorPublishingOpportunity'],\n",
              "      dtype='object', length=228)"
            ]
          },
          "metadata": {
            "tags": []
          },
          "execution_count": 6
        }
      ]
    },
    {
      "cell_type": "code",
      "metadata": {
        "colab_type": "code",
        "id": "mtda7cDWMfhC",
        "colab": {
          "base_uri": "https://localhost:8080/",
          "height": 850
        },
        "outputId": "28d54277-5503-48f6-c458-8609d46fb0ef"
      },
      "source": [
        "mcq.head(10)"
      ],
      "execution_count": 7,
      "outputs": [
        {
          "output_type": "execute_result",
          "data": {
            "text/html": [
              "<div>\n",
              "<style scoped>\n",
              "    .dataframe tbody tr th:only-of-type {\n",
              "        vertical-align: middle;\n",
              "    }\n",
              "\n",
              "    .dataframe tbody tr th {\n",
              "        vertical-align: top;\n",
              "    }\n",
              "\n",
              "    .dataframe thead th {\n",
              "        text-align: right;\n",
              "    }\n",
              "</style>\n",
              "<table border=\"1\" class=\"dataframe\">\n",
              "  <thead>\n",
              "    <tr style=\"text-align: right;\">\n",
              "      <th></th>\n",
              "      <th>GenderSelect</th>\n",
              "      <th>Country</th>\n",
              "      <th>Age</th>\n",
              "      <th>EmploymentStatus</th>\n",
              "      <th>StudentStatus</th>\n",
              "      <th>LearningDataScience</th>\n",
              "      <th>CodeWriter</th>\n",
              "      <th>CareerSwitcher</th>\n",
              "      <th>CurrentJobTitleSelect</th>\n",
              "      <th>TitleFit</th>\n",
              "      <th>CurrentEmployerType</th>\n",
              "      <th>MLToolNextYearSelect</th>\n",
              "      <th>MLMethodNextYearSelect</th>\n",
              "      <th>LanguageRecommendationSelect</th>\n",
              "      <th>PublicDatasetsSelect</th>\n",
              "      <th>LearningPlatformSelect</th>\n",
              "      <th>LearningPlatformUsefulnessArxiv</th>\n",
              "      <th>LearningPlatformUsefulnessBlogs</th>\n",
              "      <th>LearningPlatformUsefulnessCollege</th>\n",
              "      <th>LearningPlatformUsefulnessCompany</th>\n",
              "      <th>LearningPlatformUsefulnessConferences</th>\n",
              "      <th>LearningPlatformUsefulnessFriends</th>\n",
              "      <th>LearningPlatformUsefulnessKaggle</th>\n",
              "      <th>LearningPlatformUsefulnessNewsletters</th>\n",
              "      <th>LearningPlatformUsefulnessCommunities</th>\n",
              "      <th>LearningPlatformUsefulnessDocumentation</th>\n",
              "      <th>LearningPlatformUsefulnessCourses</th>\n",
              "      <th>LearningPlatformUsefulnessProjects</th>\n",
              "      <th>LearningPlatformUsefulnessPodcasts</th>\n",
              "      <th>LearningPlatformUsefulnessSO</th>\n",
              "      <th>LearningPlatformUsefulnessTextbook</th>\n",
              "      <th>LearningPlatformUsefulnessTradeBook</th>\n",
              "      <th>LearningPlatformUsefulnessTutoring</th>\n",
              "      <th>LearningPlatformUsefulnessYouTube</th>\n",
              "      <th>BlogsPodcastsNewslettersSelect</th>\n",
              "      <th>LearningDataScienceTime</th>\n",
              "      <th>JobSkillImportanceBigData</th>\n",
              "      <th>JobSkillImportanceDegree</th>\n",
              "      <th>JobSkillImportanceStats</th>\n",
              "      <th>JobSkillImportanceEnterpriseTools</th>\n",
              "      <th>...</th>\n",
              "      <th>WorkChallengeFrequencyITCoordination</th>\n",
              "      <th>WorkChallengeFrequencyHiringFunds</th>\n",
              "      <th>WorkChallengeFrequencyPrivacy</th>\n",
              "      <th>WorkChallengeFrequencyScaling</th>\n",
              "      <th>WorkChallengeFrequencyEnvironments</th>\n",
              "      <th>WorkChallengeFrequencyClarity</th>\n",
              "      <th>WorkChallengeFrequencyDataAccess</th>\n",
              "      <th>WorkChallengeFrequencyOtherSelect</th>\n",
              "      <th>WorkDataVisualizations</th>\n",
              "      <th>WorkInternalVsExternalTools</th>\n",
              "      <th>WorkMLTeamSeatSelect</th>\n",
              "      <th>WorkDatasets</th>\n",
              "      <th>WorkDatasetsChallenge</th>\n",
              "      <th>WorkDataStorage</th>\n",
              "      <th>WorkDataSharing</th>\n",
              "      <th>WorkDataSourcing</th>\n",
              "      <th>WorkCodeSharing</th>\n",
              "      <th>RemoteWork</th>\n",
              "      <th>CompensationAmount</th>\n",
              "      <th>CompensationCurrency</th>\n",
              "      <th>SalaryChange</th>\n",
              "      <th>JobSatisfaction</th>\n",
              "      <th>JobSearchResource</th>\n",
              "      <th>JobHuntTime</th>\n",
              "      <th>JobFactorLearning</th>\n",
              "      <th>JobFactorSalary</th>\n",
              "      <th>JobFactorOffice</th>\n",
              "      <th>JobFactorLanguages</th>\n",
              "      <th>JobFactorCommute</th>\n",
              "      <th>JobFactorManagement</th>\n",
              "      <th>JobFactorExperienceLevel</th>\n",
              "      <th>JobFactorDepartment</th>\n",
              "      <th>JobFactorTitle</th>\n",
              "      <th>JobFactorCompanyFunding</th>\n",
              "      <th>JobFactorImpact</th>\n",
              "      <th>JobFactorRemote</th>\n",
              "      <th>JobFactorIndustry</th>\n",
              "      <th>JobFactorLeaderReputation</th>\n",
              "      <th>JobFactorDiversity</th>\n",
              "      <th>JobFactorPublishingOpportunity</th>\n",
              "    </tr>\n",
              "  </thead>\n",
              "  <tbody>\n",
              "    <tr>\n",
              "      <th>0</th>\n",
              "      <td>Non-binary, genderqueer, or gender non-conforming</td>\n",
              "      <td>NaN</td>\n",
              "      <td>NaN</td>\n",
              "      <td>Employed full-time</td>\n",
              "      <td>NaN</td>\n",
              "      <td>NaN</td>\n",
              "      <td>Yes</td>\n",
              "      <td>NaN</td>\n",
              "      <td>DBA/Database Engineer</td>\n",
              "      <td>Fine</td>\n",
              "      <td>Employed by a company that doesn't perform adv...</td>\n",
              "      <td>SAS Base</td>\n",
              "      <td>Random Forests</td>\n",
              "      <td>F#</td>\n",
              "      <td>Dataset aggregator/platform (i.e. Socrata/Kagg...</td>\n",
              "      <td>College/University,Conferences,Podcasts,Trade ...</td>\n",
              "      <td>NaN</td>\n",
              "      <td>NaN</td>\n",
              "      <td>NaN</td>\n",
              "      <td>NaN</td>\n",
              "      <td>Very useful</td>\n",
              "      <td>NaN</td>\n",
              "      <td>NaN</td>\n",
              "      <td>NaN</td>\n",
              "      <td>NaN</td>\n",
              "      <td>NaN</td>\n",
              "      <td>NaN</td>\n",
              "      <td>NaN</td>\n",
              "      <td>Very useful</td>\n",
              "      <td>NaN</td>\n",
              "      <td>NaN</td>\n",
              "      <td>Somewhat useful</td>\n",
              "      <td>NaN</td>\n",
              "      <td>NaN</td>\n",
              "      <td>Becoming a Data Scientist Podcast,Data Machina...</td>\n",
              "      <td>NaN</td>\n",
              "      <td>NaN</td>\n",
              "      <td>NaN</td>\n",
              "      <td>NaN</td>\n",
              "      <td>NaN</td>\n",
              "      <td>...</td>\n",
              "      <td>NaN</td>\n",
              "      <td>NaN</td>\n",
              "      <td>Often</td>\n",
              "      <td>Most of the time</td>\n",
              "      <td>NaN</td>\n",
              "      <td>NaN</td>\n",
              "      <td>NaN</td>\n",
              "      <td>NaN</td>\n",
              "      <td>26-50% of projects</td>\n",
              "      <td>Do not know</td>\n",
              "      <td>Standalone Team</td>\n",
              "      <td>NaN</td>\n",
              "      <td>NaN</td>\n",
              "      <td>Document-oriented (e.g. MongoDB/Elasticsearch)...</td>\n",
              "      <td>Company Developed Platform,I don't typically s...</td>\n",
              "      <td>NaN</td>\n",
              "      <td>Mercurial,Subversion,Other</td>\n",
              "      <td>Always</td>\n",
              "      <td>NaN</td>\n",
              "      <td>NaN</td>\n",
              "      <td>I am not currently employed</td>\n",
              "      <td>5</td>\n",
              "      <td>NaN</td>\n",
              "      <td>NaN</td>\n",
              "      <td>NaN</td>\n",
              "      <td>NaN</td>\n",
              "      <td>NaN</td>\n",
              "      <td>NaN</td>\n",
              "      <td>NaN</td>\n",
              "      <td>NaN</td>\n",
              "      <td>NaN</td>\n",
              "      <td>NaN</td>\n",
              "      <td>NaN</td>\n",
              "      <td>NaN</td>\n",
              "      <td>NaN</td>\n",
              "      <td>NaN</td>\n",
              "      <td>NaN</td>\n",
              "      <td>NaN</td>\n",
              "      <td>NaN</td>\n",
              "      <td>NaN</td>\n",
              "    </tr>\n",
              "    <tr>\n",
              "      <th>1</th>\n",
              "      <td>Female</td>\n",
              "      <td>United States</td>\n",
              "      <td>30.0</td>\n",
              "      <td>Not employed, but looking for work</td>\n",
              "      <td>NaN</td>\n",
              "      <td>NaN</td>\n",
              "      <td>NaN</td>\n",
              "      <td>NaN</td>\n",
              "      <td>NaN</td>\n",
              "      <td>NaN</td>\n",
              "      <td>NaN</td>\n",
              "      <td>Python</td>\n",
              "      <td>Random Forests</td>\n",
              "      <td>Python</td>\n",
              "      <td>Dataset aggregator/platform (i.e. Socrata/Kagg...</td>\n",
              "      <td>Kaggle</td>\n",
              "      <td>NaN</td>\n",
              "      <td>NaN</td>\n",
              "      <td>NaN</td>\n",
              "      <td>NaN</td>\n",
              "      <td>NaN</td>\n",
              "      <td>NaN</td>\n",
              "      <td>Somewhat useful</td>\n",
              "      <td>NaN</td>\n",
              "      <td>NaN</td>\n",
              "      <td>NaN</td>\n",
              "      <td>NaN</td>\n",
              "      <td>NaN</td>\n",
              "      <td>NaN</td>\n",
              "      <td>NaN</td>\n",
              "      <td>NaN</td>\n",
              "      <td>NaN</td>\n",
              "      <td>NaN</td>\n",
              "      <td>NaN</td>\n",
              "      <td>Becoming a Data Scientist Podcast,Siraj Raval ...</td>\n",
              "      <td>1-2 years</td>\n",
              "      <td>NaN</td>\n",
              "      <td>Nice to have</td>\n",
              "      <td>Unnecessary</td>\n",
              "      <td>NaN</td>\n",
              "      <td>...</td>\n",
              "      <td>NaN</td>\n",
              "      <td>NaN</td>\n",
              "      <td>NaN</td>\n",
              "      <td>NaN</td>\n",
              "      <td>NaN</td>\n",
              "      <td>NaN</td>\n",
              "      <td>NaN</td>\n",
              "      <td>NaN</td>\n",
              "      <td>NaN</td>\n",
              "      <td>NaN</td>\n",
              "      <td>NaN</td>\n",
              "      <td>NaN</td>\n",
              "      <td>NaN</td>\n",
              "      <td>NaN</td>\n",
              "      <td>NaN</td>\n",
              "      <td>NaN</td>\n",
              "      <td>NaN</td>\n",
              "      <td>NaN</td>\n",
              "      <td>NaN</td>\n",
              "      <td>NaN</td>\n",
              "      <td>NaN</td>\n",
              "      <td>NaN</td>\n",
              "      <td>NaN</td>\n",
              "      <td>NaN</td>\n",
              "      <td>NaN</td>\n",
              "      <td>NaN</td>\n",
              "      <td>NaN</td>\n",
              "      <td>NaN</td>\n",
              "      <td>NaN</td>\n",
              "      <td>NaN</td>\n",
              "      <td>NaN</td>\n",
              "      <td>NaN</td>\n",
              "      <td>NaN</td>\n",
              "      <td>NaN</td>\n",
              "      <td>NaN</td>\n",
              "      <td>NaN</td>\n",
              "      <td>NaN</td>\n",
              "      <td>Somewhat important</td>\n",
              "      <td>NaN</td>\n",
              "      <td>NaN</td>\n",
              "    </tr>\n",
              "    <tr>\n",
              "      <th>2</th>\n",
              "      <td>Male</td>\n",
              "      <td>Canada</td>\n",
              "      <td>28.0</td>\n",
              "      <td>Not employed, but looking for work</td>\n",
              "      <td>NaN</td>\n",
              "      <td>NaN</td>\n",
              "      <td>NaN</td>\n",
              "      <td>NaN</td>\n",
              "      <td>NaN</td>\n",
              "      <td>NaN</td>\n",
              "      <td>NaN</td>\n",
              "      <td>Amazon Web services</td>\n",
              "      <td>Deep learning</td>\n",
              "      <td>R</td>\n",
              "      <td>Dataset aggregator/platform (i.e. Socrata/Kagg...</td>\n",
              "      <td>Arxiv,College/University,Kaggle,Online courses...</td>\n",
              "      <td>Very useful</td>\n",
              "      <td>NaN</td>\n",
              "      <td>Somewhat useful</td>\n",
              "      <td>NaN</td>\n",
              "      <td>NaN</td>\n",
              "      <td>NaN</td>\n",
              "      <td>Somewhat useful</td>\n",
              "      <td>NaN</td>\n",
              "      <td>NaN</td>\n",
              "      <td>NaN</td>\n",
              "      <td>Very useful</td>\n",
              "      <td>NaN</td>\n",
              "      <td>NaN</td>\n",
              "      <td>NaN</td>\n",
              "      <td>NaN</td>\n",
              "      <td>NaN</td>\n",
              "      <td>NaN</td>\n",
              "      <td>Very useful</td>\n",
              "      <td>FastML Blog,No Free Hunch Blog,Talking Machine...</td>\n",
              "      <td>1-2 years</td>\n",
              "      <td>Necessary</td>\n",
              "      <td>NaN</td>\n",
              "      <td>NaN</td>\n",
              "      <td>NaN</td>\n",
              "      <td>...</td>\n",
              "      <td>NaN</td>\n",
              "      <td>NaN</td>\n",
              "      <td>NaN</td>\n",
              "      <td>NaN</td>\n",
              "      <td>NaN</td>\n",
              "      <td>NaN</td>\n",
              "      <td>NaN</td>\n",
              "      <td>NaN</td>\n",
              "      <td>NaN</td>\n",
              "      <td>NaN</td>\n",
              "      <td>NaN</td>\n",
              "      <td>NaN</td>\n",
              "      <td>NaN</td>\n",
              "      <td>NaN</td>\n",
              "      <td>NaN</td>\n",
              "      <td>NaN</td>\n",
              "      <td>NaN</td>\n",
              "      <td>NaN</td>\n",
              "      <td>NaN</td>\n",
              "      <td>NaN</td>\n",
              "      <td>NaN</td>\n",
              "      <td>NaN</td>\n",
              "      <td>Asking friends, family members, or former coll...</td>\n",
              "      <td>1-2</td>\n",
              "      <td>Very Important</td>\n",
              "      <td>Very Important</td>\n",
              "      <td>Very Important</td>\n",
              "      <td>Very Important</td>\n",
              "      <td>Very Important</td>\n",
              "      <td>Very Important</td>\n",
              "      <td>Very Important</td>\n",
              "      <td>Very Important</td>\n",
              "      <td>Very Important</td>\n",
              "      <td>Very Important</td>\n",
              "      <td>Very Important</td>\n",
              "      <td>Very Important</td>\n",
              "      <td>Very Important</td>\n",
              "      <td>Very Important</td>\n",
              "      <td>Very Important</td>\n",
              "      <td>Very Important</td>\n",
              "    </tr>\n",
              "    <tr>\n",
              "      <th>3</th>\n",
              "      <td>Male</td>\n",
              "      <td>United States</td>\n",
              "      <td>56.0</td>\n",
              "      <td>Independent contractor, freelancer, or self-em...</td>\n",
              "      <td>NaN</td>\n",
              "      <td>NaN</td>\n",
              "      <td>Yes</td>\n",
              "      <td>NaN</td>\n",
              "      <td>Operations Research Practitioner</td>\n",
              "      <td>Poorly</td>\n",
              "      <td>Self-employed</td>\n",
              "      <td>TensorFlow</td>\n",
              "      <td>Neural Nets</td>\n",
              "      <td>Python</td>\n",
              "      <td>I collect my own data (e.g. web-scraping)</td>\n",
              "      <td>Blogs,College/University,Conferences,Friends n...</td>\n",
              "      <td>NaN</td>\n",
              "      <td>Very useful</td>\n",
              "      <td>Very useful</td>\n",
              "      <td>NaN</td>\n",
              "      <td>Very useful</td>\n",
              "      <td>Very useful</td>\n",
              "      <td>NaN</td>\n",
              "      <td>NaN</td>\n",
              "      <td>NaN</td>\n",
              "      <td>Very useful</td>\n",
              "      <td>Very useful</td>\n",
              "      <td>Very useful</td>\n",
              "      <td>NaN</td>\n",
              "      <td>NaN</td>\n",
              "      <td>NaN</td>\n",
              "      <td>NaN</td>\n",
              "      <td>NaN</td>\n",
              "      <td>NaN</td>\n",
              "      <td>KDnuggets Blog</td>\n",
              "      <td>NaN</td>\n",
              "      <td>NaN</td>\n",
              "      <td>NaN</td>\n",
              "      <td>NaN</td>\n",
              "      <td>NaN</td>\n",
              "      <td>...</td>\n",
              "      <td>NaN</td>\n",
              "      <td>Often</td>\n",
              "      <td>Often</td>\n",
              "      <td>Often</td>\n",
              "      <td>Often</td>\n",
              "      <td>Often</td>\n",
              "      <td>Often</td>\n",
              "      <td>NaN</td>\n",
              "      <td>100% of projects</td>\n",
              "      <td>Entirely internal</td>\n",
              "      <td>Standalone Team</td>\n",
              "      <td>Electricity data sets from government and states</td>\n",
              "      <td>Everything is custom, there is never a tool th...</td>\n",
              "      <td>Column-oriented relational (e.g. KDB/MariaDB),...</td>\n",
              "      <td>Company Developed Platform,Email</td>\n",
              "      <td>NaN</td>\n",
              "      <td>Generic cloud file sharing software (Dropbox/B...</td>\n",
              "      <td>NaN</td>\n",
              "      <td>250,000</td>\n",
              "      <td>USD</td>\n",
              "      <td>Has increased 20% or more</td>\n",
              "      <td>10 - Highly Satisfied</td>\n",
              "      <td>NaN</td>\n",
              "      <td>NaN</td>\n",
              "      <td>NaN</td>\n",
              "      <td>NaN</td>\n",
              "      <td>NaN</td>\n",
              "      <td>NaN</td>\n",
              "      <td>NaN</td>\n",
              "      <td>NaN</td>\n",
              "      <td>NaN</td>\n",
              "      <td>NaN</td>\n",
              "      <td>NaN</td>\n",
              "      <td>NaN</td>\n",
              "      <td>NaN</td>\n",
              "      <td>NaN</td>\n",
              "      <td>NaN</td>\n",
              "      <td>NaN</td>\n",
              "      <td>NaN</td>\n",
              "      <td>NaN</td>\n",
              "    </tr>\n",
              "    <tr>\n",
              "      <th>4</th>\n",
              "      <td>Male</td>\n",
              "      <td>Taiwan</td>\n",
              "      <td>38.0</td>\n",
              "      <td>Employed full-time</td>\n",
              "      <td>NaN</td>\n",
              "      <td>NaN</td>\n",
              "      <td>Yes</td>\n",
              "      <td>NaN</td>\n",
              "      <td>Computer Scientist</td>\n",
              "      <td>Fine</td>\n",
              "      <td>Employed by a company that doesn't perform adv...</td>\n",
              "      <td>TensorFlow</td>\n",
              "      <td>Text Mining</td>\n",
              "      <td>Python</td>\n",
              "      <td>GitHub</td>\n",
              "      <td>Arxiv,Conferences,Kaggle,Textbook</td>\n",
              "      <td>Very useful</td>\n",
              "      <td>NaN</td>\n",
              "      <td>NaN</td>\n",
              "      <td>NaN</td>\n",
              "      <td>Somewhat useful</td>\n",
              "      <td>NaN</td>\n",
              "      <td>Somewhat useful</td>\n",
              "      <td>NaN</td>\n",
              "      <td>NaN</td>\n",
              "      <td>NaN</td>\n",
              "      <td>NaN</td>\n",
              "      <td>NaN</td>\n",
              "      <td>NaN</td>\n",
              "      <td>NaN</td>\n",
              "      <td>Somewhat useful</td>\n",
              "      <td>NaN</td>\n",
              "      <td>NaN</td>\n",
              "      <td>NaN</td>\n",
              "      <td>Data Machina Newsletter,Jack's Import AI Newsl...</td>\n",
              "      <td>NaN</td>\n",
              "      <td>NaN</td>\n",
              "      <td>NaN</td>\n",
              "      <td>NaN</td>\n",
              "      <td>NaN</td>\n",
              "      <td>...</td>\n",
              "      <td>Sometimes</td>\n",
              "      <td>NaN</td>\n",
              "      <td>Most of the time</td>\n",
              "      <td>NaN</td>\n",
              "      <td>Sometimes</td>\n",
              "      <td>NaN</td>\n",
              "      <td>NaN</td>\n",
              "      <td>NaN</td>\n",
              "      <td>10-25% of projects</td>\n",
              "      <td>Approximately half internal and half external</td>\n",
              "      <td>Business Department</td>\n",
              "      <td>NaN</td>\n",
              "      <td>NaN</td>\n",
              "      <td>Flat files not in a database or cache (e.g. CS...</td>\n",
              "      <td>Company Developed Platform</td>\n",
              "      <td>NaN</td>\n",
              "      <td>Git</td>\n",
              "      <td>Rarely</td>\n",
              "      <td>NaN</td>\n",
              "      <td>NaN</td>\n",
              "      <td>I do not want to share information about my sa...</td>\n",
              "      <td>2</td>\n",
              "      <td>NaN</td>\n",
              "      <td>NaN</td>\n",
              "      <td>NaN</td>\n",
              "      <td>NaN</td>\n",
              "      <td>NaN</td>\n",
              "      <td>NaN</td>\n",
              "      <td>NaN</td>\n",
              "      <td>NaN</td>\n",
              "      <td>NaN</td>\n",
              "      <td>NaN</td>\n",
              "      <td>NaN</td>\n",
              "      <td>NaN</td>\n",
              "      <td>NaN</td>\n",
              "      <td>NaN</td>\n",
              "      <td>NaN</td>\n",
              "      <td>NaN</td>\n",
              "      <td>NaN</td>\n",
              "      <td>NaN</td>\n",
              "    </tr>\n",
              "    <tr>\n",
              "      <th>5</th>\n",
              "      <td>Male</td>\n",
              "      <td>Brazil</td>\n",
              "      <td>46.0</td>\n",
              "      <td>Employed full-time</td>\n",
              "      <td>NaN</td>\n",
              "      <td>NaN</td>\n",
              "      <td>Yes</td>\n",
              "      <td>NaN</td>\n",
              "      <td>Data Scientist</td>\n",
              "      <td>Fine</td>\n",
              "      <td>Employed by college or university</td>\n",
              "      <td>TensorFlow</td>\n",
              "      <td>Genetic &amp; Evolutionary Algorithms</td>\n",
              "      <td>Python</td>\n",
              "      <td>Dataset aggregator/platform (i.e. Socrata/Kagg...</td>\n",
              "      <td>Kaggle,Online courses,Stack Overflow Q&amp;A,Textbook</td>\n",
              "      <td>NaN</td>\n",
              "      <td>NaN</td>\n",
              "      <td>NaN</td>\n",
              "      <td>NaN</td>\n",
              "      <td>NaN</td>\n",
              "      <td>NaN</td>\n",
              "      <td>Very useful</td>\n",
              "      <td>NaN</td>\n",
              "      <td>NaN</td>\n",
              "      <td>NaN</td>\n",
              "      <td>Very useful</td>\n",
              "      <td>NaN</td>\n",
              "      <td>NaN</td>\n",
              "      <td>Very useful</td>\n",
              "      <td>Very useful</td>\n",
              "      <td>NaN</td>\n",
              "      <td>NaN</td>\n",
              "      <td>NaN</td>\n",
              "      <td>Other (Separate different answers with semicolon)</td>\n",
              "      <td>NaN</td>\n",
              "      <td>NaN</td>\n",
              "      <td>NaN</td>\n",
              "      <td>NaN</td>\n",
              "      <td>NaN</td>\n",
              "      <td>...</td>\n",
              "      <td>NaN</td>\n",
              "      <td>NaN</td>\n",
              "      <td>NaN</td>\n",
              "      <td>NaN</td>\n",
              "      <td>NaN</td>\n",
              "      <td>NaN</td>\n",
              "      <td>NaN</td>\n",
              "      <td>NaN</td>\n",
              "      <td>76-99% of projects</td>\n",
              "      <td>More internal than external</td>\n",
              "      <td>Other</td>\n",
              "      <td>NaN</td>\n",
              "      <td>NaN</td>\n",
              "      <td>Column-oriented relational (e.g. KDB/MariaDB),...</td>\n",
              "      <td>I don't typically share data</td>\n",
              "      <td>NaN</td>\n",
              "      <td>Bitbucket,Git,Other</td>\n",
              "      <td>Sometimes</td>\n",
              "      <td>NaN</td>\n",
              "      <td>NaN</td>\n",
              "      <td>I do not want to share information about my sa...</td>\n",
              "      <td>8</td>\n",
              "      <td>NaN</td>\n",
              "      <td>NaN</td>\n",
              "      <td>NaN</td>\n",
              "      <td>NaN</td>\n",
              "      <td>NaN</td>\n",
              "      <td>NaN</td>\n",
              "      <td>NaN</td>\n",
              "      <td>NaN</td>\n",
              "      <td>NaN</td>\n",
              "      <td>NaN</td>\n",
              "      <td>NaN</td>\n",
              "      <td>NaN</td>\n",
              "      <td>NaN</td>\n",
              "      <td>NaN</td>\n",
              "      <td>NaN</td>\n",
              "      <td>NaN</td>\n",
              "      <td>NaN</td>\n",
              "      <td>NaN</td>\n",
              "    </tr>\n",
              "    <tr>\n",
              "      <th>6</th>\n",
              "      <td>Male</td>\n",
              "      <td>United States</td>\n",
              "      <td>35.0</td>\n",
              "      <td>Employed full-time</td>\n",
              "      <td>NaN</td>\n",
              "      <td>NaN</td>\n",
              "      <td>Yes</td>\n",
              "      <td>NaN</td>\n",
              "      <td>Computer Scientist</td>\n",
              "      <td>Fine</td>\n",
              "      <td>Employed by government</td>\n",
              "      <td>TensorFlow</td>\n",
              "      <td>Text Mining</td>\n",
              "      <td>R</td>\n",
              "      <td>Dataset aggregator/platform (i.e. Socrata/Kagg...</td>\n",
              "      <td>Arxiv,Blogs,Kaggle,Personal Projects,Textbook</td>\n",
              "      <td>Somewhat useful</td>\n",
              "      <td>Somewhat useful</td>\n",
              "      <td>NaN</td>\n",
              "      <td>NaN</td>\n",
              "      <td>NaN</td>\n",
              "      <td>NaN</td>\n",
              "      <td>Somewhat useful</td>\n",
              "      <td>NaN</td>\n",
              "      <td>NaN</td>\n",
              "      <td>NaN</td>\n",
              "      <td>NaN</td>\n",
              "      <td>Somewhat useful</td>\n",
              "      <td>NaN</td>\n",
              "      <td>NaN</td>\n",
              "      <td>Very useful</td>\n",
              "      <td>NaN</td>\n",
              "      <td>NaN</td>\n",
              "      <td>NaN</td>\n",
              "      <td>NaN</td>\n",
              "      <td>NaN</td>\n",
              "      <td>NaN</td>\n",
              "      <td>NaN</td>\n",
              "      <td>NaN</td>\n",
              "      <td>NaN</td>\n",
              "      <td>...</td>\n",
              "      <td>NaN</td>\n",
              "      <td>NaN</td>\n",
              "      <td>NaN</td>\n",
              "      <td>NaN</td>\n",
              "      <td>NaN</td>\n",
              "      <td>NaN</td>\n",
              "      <td>NaN</td>\n",
              "      <td>NaN</td>\n",
              "      <td>26-50% of projects</td>\n",
              "      <td>Entirely internal</td>\n",
              "      <td>IT Department</td>\n",
              "      <td>NaN</td>\n",
              "      <td>NaN</td>\n",
              "      <td>Flat files not in a database or cache (e.g. CS...</td>\n",
              "      <td>Company Developed Platform,Email</td>\n",
              "      <td>NaN</td>\n",
              "      <td>Bitbucket,Git</td>\n",
              "      <td>NaN</td>\n",
              "      <td>NaN</td>\n",
              "      <td>NaN</td>\n",
              "      <td>NaN</td>\n",
              "      <td>8</td>\n",
              "      <td>NaN</td>\n",
              "      <td>NaN</td>\n",
              "      <td>NaN</td>\n",
              "      <td>NaN</td>\n",
              "      <td>NaN</td>\n",
              "      <td>NaN</td>\n",
              "      <td>NaN</td>\n",
              "      <td>NaN</td>\n",
              "      <td>NaN</td>\n",
              "      <td>NaN</td>\n",
              "      <td>NaN</td>\n",
              "      <td>NaN</td>\n",
              "      <td>NaN</td>\n",
              "      <td>NaN</td>\n",
              "      <td>NaN</td>\n",
              "      <td>NaN</td>\n",
              "      <td>NaN</td>\n",
              "      <td>NaN</td>\n",
              "    </tr>\n",
              "    <tr>\n",
              "      <th>7</th>\n",
              "      <td>Female</td>\n",
              "      <td>India</td>\n",
              "      <td>22.0</td>\n",
              "      <td>Employed full-time</td>\n",
              "      <td>NaN</td>\n",
              "      <td>NaN</td>\n",
              "      <td>No</td>\n",
              "      <td>Yes</td>\n",
              "      <td>Software Developer/Software Engineer</td>\n",
              "      <td>Fine</td>\n",
              "      <td>Employed by professional services/consulting firm</td>\n",
              "      <td>Google Cloud Compute</td>\n",
              "      <td>Deep learning</td>\n",
              "      <td>SQL</td>\n",
              "      <td>Dataset aggregator/platform (i.e. Socrata/Kagg...</td>\n",
              "      <td>College/University,Kaggle,Online courses,Stack...</td>\n",
              "      <td>NaN</td>\n",
              "      <td>NaN</td>\n",
              "      <td>Very useful</td>\n",
              "      <td>NaN</td>\n",
              "      <td>NaN</td>\n",
              "      <td>NaN</td>\n",
              "      <td>Very useful</td>\n",
              "      <td>NaN</td>\n",
              "      <td>NaN</td>\n",
              "      <td>NaN</td>\n",
              "      <td>Very useful</td>\n",
              "      <td>NaN</td>\n",
              "      <td>NaN</td>\n",
              "      <td>Very useful</td>\n",
              "      <td>NaN</td>\n",
              "      <td>NaN</td>\n",
              "      <td>NaN</td>\n",
              "      <td>Very useful</td>\n",
              "      <td>Becoming a Data Scientist Podcast,Siraj Raval ...</td>\n",
              "      <td>1-2 years</td>\n",
              "      <td>Necessary</td>\n",
              "      <td>Nice to have</td>\n",
              "      <td>Nice to have</td>\n",
              "      <td>Nice to have</td>\n",
              "      <td>...</td>\n",
              "      <td>NaN</td>\n",
              "      <td>NaN</td>\n",
              "      <td>NaN</td>\n",
              "      <td>NaN</td>\n",
              "      <td>NaN</td>\n",
              "      <td>NaN</td>\n",
              "      <td>NaN</td>\n",
              "      <td>NaN</td>\n",
              "      <td>NaN</td>\n",
              "      <td>NaN</td>\n",
              "      <td>NaN</td>\n",
              "      <td>NaN</td>\n",
              "      <td>NaN</td>\n",
              "      <td>NaN</td>\n",
              "      <td>NaN</td>\n",
              "      <td>NaN</td>\n",
              "      <td>NaN</td>\n",
              "      <td>NaN</td>\n",
              "      <td>NaN</td>\n",
              "      <td>NaN</td>\n",
              "      <td>NaN</td>\n",
              "      <td>NaN</td>\n",
              "      <td>Career fair or on-campus recruiting event</td>\n",
              "      <td>1-2</td>\n",
              "      <td>Very Important</td>\n",
              "      <td>Very Important</td>\n",
              "      <td>Very Important</td>\n",
              "      <td>Very Important</td>\n",
              "      <td>Very Important</td>\n",
              "      <td>Very Important</td>\n",
              "      <td>Very Important</td>\n",
              "      <td>Somewhat important</td>\n",
              "      <td>Very Important</td>\n",
              "      <td>Somewhat important</td>\n",
              "      <td>Somewhat important</td>\n",
              "      <td>Not important</td>\n",
              "      <td>Very Important</td>\n",
              "      <td>Very Important</td>\n",
              "      <td>Somewhat important</td>\n",
              "      <td>Somewhat important</td>\n",
              "    </tr>\n",
              "    <tr>\n",
              "      <th>8</th>\n",
              "      <td>Female</td>\n",
              "      <td>Australia</td>\n",
              "      <td>43.0</td>\n",
              "      <td>Employed full-time</td>\n",
              "      <td>NaN</td>\n",
              "      <td>NaN</td>\n",
              "      <td>Yes</td>\n",
              "      <td>NaN</td>\n",
              "      <td>Business Analyst</td>\n",
              "      <td>Fine</td>\n",
              "      <td>Employed by non-profit or NGO</td>\n",
              "      <td>Microsoft Excel Data Mining</td>\n",
              "      <td>Link Analysis</td>\n",
              "      <td>Python</td>\n",
              "      <td>University/Non-profit research group websites</td>\n",
              "      <td>Blogs,Company internal community,Conferences,F...</td>\n",
              "      <td>NaN</td>\n",
              "      <td>Very useful</td>\n",
              "      <td>NaN</td>\n",
              "      <td>Very useful</td>\n",
              "      <td>Very useful</td>\n",
              "      <td>Very useful</td>\n",
              "      <td>Very useful</td>\n",
              "      <td>Very useful</td>\n",
              "      <td>Very useful</td>\n",
              "      <td>NaN</td>\n",
              "      <td>Very useful</td>\n",
              "      <td>NaN</td>\n",
              "      <td>NaN</td>\n",
              "      <td>NaN</td>\n",
              "      <td>NaN</td>\n",
              "      <td>NaN</td>\n",
              "      <td>NaN</td>\n",
              "      <td>Very useful</td>\n",
              "      <td>Becoming a Data Scientist Podcast,Data Elixir ...</td>\n",
              "      <td>NaN</td>\n",
              "      <td>NaN</td>\n",
              "      <td>NaN</td>\n",
              "      <td>NaN</td>\n",
              "      <td>NaN</td>\n",
              "      <td>...</td>\n",
              "      <td>NaN</td>\n",
              "      <td>NaN</td>\n",
              "      <td>NaN</td>\n",
              "      <td>NaN</td>\n",
              "      <td>NaN</td>\n",
              "      <td>NaN</td>\n",
              "      <td>NaN</td>\n",
              "      <td>NaN</td>\n",
              "      <td>Less than 10% of projects</td>\n",
              "      <td>Entirely internal</td>\n",
              "      <td>IT Department</td>\n",
              "      <td>NaN</td>\n",
              "      <td>NaN</td>\n",
              "      <td>Row-oriented relational (e.g. MySQL/Microsoft ...</td>\n",
              "      <td>I don't typically share data,Share Drive/Share...</td>\n",
              "      <td>NaN</td>\n",
              "      <td>Generic non-cloud file sharing software (Email...</td>\n",
              "      <td>Rarely</td>\n",
              "      <td>80000</td>\n",
              "      <td>AUD</td>\n",
              "      <td>Has stayed about the same (has not increased o...</td>\n",
              "      <td>7</td>\n",
              "      <td>NaN</td>\n",
              "      <td>NaN</td>\n",
              "      <td>NaN</td>\n",
              "      <td>NaN</td>\n",
              "      <td>NaN</td>\n",
              "      <td>NaN</td>\n",
              "      <td>NaN</td>\n",
              "      <td>NaN</td>\n",
              "      <td>NaN</td>\n",
              "      <td>NaN</td>\n",
              "      <td>NaN</td>\n",
              "      <td>NaN</td>\n",
              "      <td>NaN</td>\n",
              "      <td>NaN</td>\n",
              "      <td>NaN</td>\n",
              "      <td>NaN</td>\n",
              "      <td>NaN</td>\n",
              "      <td>NaN</td>\n",
              "    </tr>\n",
              "    <tr>\n",
              "      <th>9</th>\n",
              "      <td>Male</td>\n",
              "      <td>Russia</td>\n",
              "      <td>33.0</td>\n",
              "      <td>Employed full-time</td>\n",
              "      <td>NaN</td>\n",
              "      <td>NaN</td>\n",
              "      <td>Yes</td>\n",
              "      <td>NaN</td>\n",
              "      <td>Software Developer/Software Engineer</td>\n",
              "      <td>Fine</td>\n",
              "      <td>Employed by a company that doesn't perform adv...</td>\n",
              "      <td>C/C++</td>\n",
              "      <td>Deep learning</td>\n",
              "      <td>Python</td>\n",
              "      <td>Dataset aggregator/platform (i.e. Socrata/Kagg...</td>\n",
              "      <td>Arxiv,Blogs,Conferences,Kaggle,Non-Kaggle onli...</td>\n",
              "      <td>Somewhat useful</td>\n",
              "      <td>Somewhat useful</td>\n",
              "      <td>NaN</td>\n",
              "      <td>NaN</td>\n",
              "      <td>Somewhat useful</td>\n",
              "      <td>NaN</td>\n",
              "      <td>Somewhat useful</td>\n",
              "      <td>NaN</td>\n",
              "      <td>Somewhat useful</td>\n",
              "      <td>Very useful</td>\n",
              "      <td>Very useful</td>\n",
              "      <td>Very useful</td>\n",
              "      <td>Somewhat useful</td>\n",
              "      <td>Somewhat useful</td>\n",
              "      <td>Very useful</td>\n",
              "      <td>NaN</td>\n",
              "      <td>NaN</td>\n",
              "      <td>Somewhat useful</td>\n",
              "      <td>DataTau News Aggregator,KDnuggets Blog,No Free...</td>\n",
              "      <td>NaN</td>\n",
              "      <td>NaN</td>\n",
              "      <td>NaN</td>\n",
              "      <td>NaN</td>\n",
              "      <td>NaN</td>\n",
              "      <td>...</td>\n",
              "      <td>NaN</td>\n",
              "      <td>Sometimes</td>\n",
              "      <td>Rarely</td>\n",
              "      <td>Rarely</td>\n",
              "      <td>NaN</td>\n",
              "      <td>NaN</td>\n",
              "      <td>NaN</td>\n",
              "      <td>NaN</td>\n",
              "      <td>Less than 10% of projects</td>\n",
              "      <td>Do not know</td>\n",
              "      <td>IT Department</td>\n",
              "      <td>Address database; geo data</td>\n",
              "      <td>NaN</td>\n",
              "      <td>Document-oriented (e.g. MongoDB/Elasticsearch)...</td>\n",
              "      <td>I don't typically share data</td>\n",
              "      <td>NaN</td>\n",
              "      <td>Bitbucket,Git</td>\n",
              "      <td>Rarely</td>\n",
              "      <td>1200000</td>\n",
              "      <td>RUB</td>\n",
              "      <td>Has increased between 6% and 19%</td>\n",
              "      <td>7</td>\n",
              "      <td>NaN</td>\n",
              "      <td>NaN</td>\n",
              "      <td>NaN</td>\n",
              "      <td>NaN</td>\n",
              "      <td>NaN</td>\n",
              "      <td>NaN</td>\n",
              "      <td>NaN</td>\n",
              "      <td>NaN</td>\n",
              "      <td>NaN</td>\n",
              "      <td>NaN</td>\n",
              "      <td>NaN</td>\n",
              "      <td>NaN</td>\n",
              "      <td>NaN</td>\n",
              "      <td>NaN</td>\n",
              "      <td>NaN</td>\n",
              "      <td>NaN</td>\n",
              "      <td>NaN</td>\n",
              "      <td>NaN</td>\n",
              "    </tr>\n",
              "  </tbody>\n",
              "</table>\n",
              "<p>10 rows × 228 columns</p>\n",
              "</div>"
            ],
            "text/plain": [
              "                                        GenderSelect  ... JobFactorPublishingOpportunity\n",
              "0  Non-binary, genderqueer, or gender non-conforming  ...                            NaN\n",
              "1                                             Female  ...                            NaN\n",
              "2                                               Male  ...                 Very Important\n",
              "3                                               Male  ...                            NaN\n",
              "4                                               Male  ...                            NaN\n",
              "5                                               Male  ...                            NaN\n",
              "6                                               Male  ...                            NaN\n",
              "7                                             Female  ...             Somewhat important\n",
              "8                                             Female  ...                            NaN\n",
              "9                                               Male  ...                            NaN\n",
              "\n",
              "[10 rows x 228 columns]"
            ]
          },
          "metadata": {
            "tags": []
          },
          "execution_count": 7
        }
      ]
    },
    {
      "cell_type": "code",
      "metadata": {
        "colab_type": "code",
        "id": "Mi_4pRPfMfNk",
        "colab": {
          "base_uri": "https://localhost:8080/",
          "height": 340
        },
        "outputId": "73328328-9c8e-4df3-9072-2629aca3b5c8"
      },
      "source": [
        "# missingno는 NaN 데이터들에 대해 시각화를 해준다.\n",
        "# NaN 데이터의 컬럼이 많아 아래 그래프만으로는 내용을 파악하기 어렵다.\n",
        "import missingno as msno\n",
        "\n",
        "msno.matrix(mcq, figsize=(12,5))"
      ],
      "execution_count": 8,
      "outputs": [
        {
          "output_type": "execute_result",
          "data": {
            "text/plain": [
              "<matplotlib.axes._subplots.AxesSubplot at 0x7f48354339b0>"
            ]
          },
          "metadata": {
            "tags": []
          },
          "execution_count": 8
        },
        {
          "output_type": "display_data",
          "data": {
            "image/png": "[encoded data removed]",
            "text/plain": [
              "<Figure size 864x360 with 2 Axes>"
            ]
          },
          "metadata": {
            "tags": [],
            "needs_background": "light"
          }
        }
      ]
    },
    {
      "cell_type": "markdown",
      "metadata": {
        "colab_type": "text",
        "id": "Dn5ozScSMekc"
      },
      "source": [
        "* 16,716 명의 데이터와 228개의 선다형 객관식문제와 62개의 주관식 질문에 대한 응답이다. (총 290개의 질문) 응답하지 않은 질문이 많음"
      ]
    },
    {
      "cell_type": "markdown",
      "metadata": {
        "id": "k3b53N0bFFth",
        "colab_type": "text"
      },
      "source": [
        "# **설문통계**"
      ]
    },
    {
      "cell_type": "code",
      "metadata": {
        "id": "bno5I3dWESw_",
        "colab_type": "code",
        "colab": {
          "base_uri": "https://localhost:8080/",
          "height": 297
        },
        "outputId": "358bdccb-52c3-47cd-dc08-dc5f25ba4075"
      },
      "source": [
        "# 성별\n",
        "sns.countplot(y='GenderSelect', data=mcq)"
      ],
      "execution_count": 9,
      "outputs": [
        {
          "output_type": "execute_result",
          "data": {
            "text/plain": [
              "<matplotlib.axes._subplots.AxesSubplot at 0x7f483282a3c8>"
            ]
          },
          "metadata": {
            "tags": []
          },
          "execution_count": 9
        },
        {
          "output_type": "display_data",
          "data": {
            "image/png": "[encoded data removed]",
            "text/plain": [
              "<Figure size 432x288 with 1 Axes>"
            ]
          },
          "metadata": {
            "tags": [],
            "needs_background": "light"
          }
        }
      ]
    },
    {
      "cell_type": "markdown",
      "metadata": {
        "id": "Ywjl0B6cFVmm",
        "colab_type": "text"
      },
      "source": [
        "여성보다는 남성의 비율이 훨씬 높은 편이다."
      ]
    },
    {
      "cell_type": "code",
      "metadata": {
        "id": "K_yqilWAFURY",
        "colab_type": "code",
        "colab": {
          "base_uri": "https://localhost:8080/",
          "height": 669
        },
        "outputId": "189f249b-4459-4a8f-cc21-9e09f037838c"
      },
      "source": [
        "# 국가별 응답수\n",
        "con_df = pd.DataFrame(mcq['Country'].value_counts())\n",
        "# print(con_df)\n",
        "# 'country' 컬럼을 인덱스로 지정해 주고\n",
        "con_df['국가'] = con_df.index\n",
        "# 컬럼의 순서대로 응답 수, 국가로 컬럼명을 지정해 줌\n",
        "con_df.columns = ['응답 수', '국가']\n",
        "# index 컬럼을 삭제하고 순위를 알기위해 reset_index()를 해준다.\n",
        "# 우리 나라는 18위이고 전체 52개국에서 참여했지만 20위까지만 본다. \n",
        "con_df = con_df.reset_index().drop('index', axis=1)\n",
        "con_df.head(20)"
      ],
      "execution_count": 10,
      "outputs": [
        {
          "output_type": "execute_result",
          "data": {
            "text/html": [
              "<div>\n",
              "<style scoped>\n",
              "    .dataframe tbody tr th:only-of-type {\n",
              "        vertical-align: middle;\n",
              "    }\n",
              "\n",
              "    .dataframe tbody tr th {\n",
              "        vertical-align: top;\n",
              "    }\n",
              "\n",
              "    .dataframe thead th {\n",
              "        text-align: right;\n",
              "    }\n",
              "</style>\n",
              "<table border=\"1\" class=\"dataframe\">\n",
              "  <thead>\n",
              "    <tr style=\"text-align: right;\">\n",
              "      <th></th>\n",
              "      <th>응답 수</th>\n",
              "      <th>국가</th>\n",
              "    </tr>\n",
              "  </thead>\n",
              "  <tbody>\n",
              "    <tr>\n",
              "      <th>0</th>\n",
              "      <td>4197</td>\n",
              "      <td>United States</td>\n",
              "    </tr>\n",
              "    <tr>\n",
              "      <th>1</th>\n",
              "      <td>2704</td>\n",
              "      <td>India</td>\n",
              "    </tr>\n",
              "    <tr>\n",
              "      <th>2</th>\n",
              "      <td>1023</td>\n",
              "      <td>Other</td>\n",
              "    </tr>\n",
              "    <tr>\n",
              "      <th>3</th>\n",
              "      <td>578</td>\n",
              "      <td>Russia</td>\n",
              "    </tr>\n",
              "    <tr>\n",
              "      <th>4</th>\n",
              "      <td>535</td>\n",
              "      <td>United Kingdom</td>\n",
              "    </tr>\n",
              "    <tr>\n",
              "      <th>5</th>\n",
              "      <td>471</td>\n",
              "      <td>People 's Republic of China</td>\n",
              "    </tr>\n",
              "    <tr>\n",
              "      <th>6</th>\n",
              "      <td>465</td>\n",
              "      <td>Brazil</td>\n",
              "    </tr>\n",
              "    <tr>\n",
              "      <th>7</th>\n",
              "      <td>460</td>\n",
              "      <td>Germany</td>\n",
              "    </tr>\n",
              "    <tr>\n",
              "      <th>8</th>\n",
              "      <td>442</td>\n",
              "      <td>France</td>\n",
              "    </tr>\n",
              "    <tr>\n",
              "      <th>9</th>\n",
              "      <td>440</td>\n",
              "      <td>Canada</td>\n",
              "    </tr>\n",
              "    <tr>\n",
              "      <th>10</th>\n",
              "      <td>421</td>\n",
              "      <td>Australia</td>\n",
              "    </tr>\n",
              "    <tr>\n",
              "      <th>11</th>\n",
              "      <td>320</td>\n",
              "      <td>Spain</td>\n",
              "    </tr>\n",
              "    <tr>\n",
              "      <th>12</th>\n",
              "      <td>277</td>\n",
              "      <td>Japan</td>\n",
              "    </tr>\n",
              "    <tr>\n",
              "      <th>13</th>\n",
              "      <td>254</td>\n",
              "      <td>Taiwan</td>\n",
              "    </tr>\n",
              "    <tr>\n",
              "      <th>14</th>\n",
              "      <td>238</td>\n",
              "      <td>Italy</td>\n",
              "    </tr>\n",
              "    <tr>\n",
              "      <th>15</th>\n",
              "      <td>205</td>\n",
              "      <td>Netherlands</td>\n",
              "    </tr>\n",
              "    <tr>\n",
              "      <th>16</th>\n",
              "      <td>196</td>\n",
              "      <td>Ukraine</td>\n",
              "    </tr>\n",
              "    <tr>\n",
              "      <th>17</th>\n",
              "      <td>194</td>\n",
              "      <td>South Korea</td>\n",
              "    </tr>\n",
              "    <tr>\n",
              "      <th>18</th>\n",
              "      <td>184</td>\n",
              "      <td>Poland</td>\n",
              "    </tr>\n",
              "    <tr>\n",
              "      <th>19</th>\n",
              "      <td>184</td>\n",
              "      <td>Singapore</td>\n",
              "    </tr>\n",
              "  </tbody>\n",
              "</table>\n",
              "</div>"
            ],
            "text/plain": [
              "    응답 수                           국가\n",
              "0   4197                United States\n",
              "1   2704                        India\n",
              "2   1023                        Other\n",
              "3    578                       Russia\n",
              "4    535               United Kingdom\n",
              "5    471  People 's Republic of China\n",
              "6    465                       Brazil\n",
              "7    460                      Germany\n",
              "8    442                       France\n",
              "9    440                       Canada\n",
              "10   421                    Australia\n",
              "11   320                        Spain\n",
              "12   277                        Japan\n",
              "13   254                       Taiwan\n",
              "14   238                        Italy\n",
              "15   205                  Netherlands\n",
              "16   196                      Ukraine\n",
              "17   194                  South Korea\n",
              "18   184                       Poland\n",
              "19   184                    Singapore"
            ]
          },
          "metadata": {
            "tags": []
          },
          "execution_count": 10
        }
      ]
    },
    {
      "cell_type": "code",
      "metadata": {
        "id": "20RdCuBGFY4O",
        "colab_type": "code",
        "colab": {
          "base_uri": "https://localhost:8080/",
          "height": 179
        },
        "outputId": "c0eb8004-0082-42b5-dd1e-74abb86223ea"
      },
      "source": [
        "# 연령에 대한 정보를 본다.\n",
        "mcq['Age'].describe()"
      ],
      "execution_count": 11,
      "outputs": [
        {
          "output_type": "execute_result",
          "data": {
            "text/plain": [
              "count    16385.000000\n",
              "mean        32.372841\n",
              "std         10.473487\n",
              "min          0.000000\n",
              "25%         25.000000\n",
              "50%         30.000000\n",
              "75%         37.000000\n",
              "max        100.000000\n",
              "Name: Age, dtype: float64"
            ]
          },
          "metadata": {
            "tags": []
          },
          "execution_count": 11
        }
      ]
    },
    {
      "cell_type": "code",
      "metadata": {
        "id": "G6liEL2rFa0r",
        "colab_type": "code",
        "colab": {
          "base_uri": "https://localhost:8080/",
          "height": 301
        },
        "outputId": "1db4c908-572c-455e-a668-551139b29971"
      },
      "source": [
        "sns.distplot(mcq[mcq['Age'] > 0]['Age'])"
      ],
      "execution_count": 12,
      "outputs": [
        {
          "output_type": "execute_result",
          "data": {
            "text/plain": [
              "<matplotlib.axes._subplots.AxesSubplot at 0x7f48328f5eb8>"
            ]
          },
          "metadata": {
            "tags": []
          },
          "execution_count": 12
        },
        {
          "output_type": "display_data",
          "data": {
            "image/png": "[encoded data removed]",
            "text/plain": [
              "<Figure size 432x288 with 1 Axes>"
            ]
          },
          "metadata": {
            "tags": [],
            "needs_background": "light"
          }
        }
      ]
    },
    {
      "cell_type": "markdown",
      "metadata": {
        "id": "AjVCFrC3Fdv-",
        "colab_type": "text"
      },
      "source": [
        "응답자의 대부분이 어리며, 20대부터 급격히 늘어나며, 30대가 가장 많다. 평균 나이는 32세다."
      ]
    },
    {
      "cell_type": "markdown",
      "metadata": {
        "id": "qsBkY9uMFffs",
        "colab_type": "text"
      },
      "source": [
        "#학력"
      ]
    },
    {
      "cell_type": "code",
      "metadata": {
        "id": "WVqQgzisFcBF",
        "colab_type": "code",
        "colab": {
          "base_uri": "https://localhost:8080/",
          "height": 297
        },
        "outputId": "a7d7d102-833e-4a06-e01b-3548c4dd7f8c"
      },
      "source": [
        "sns.countplot(y='FormalEducation', data=mcq)"
      ],
      "execution_count": 13,
      "outputs": [
        {
          "output_type": "execute_result",
          "data": {
            "text/plain": [
              "<matplotlib.axes._subplots.AxesSubplot at 0x7f48322cb400>"
            ]
          },
          "metadata": {
            "tags": []
          },
          "execution_count": 13
        },
        {
          "output_type": "display_data",
          "data": {
            "image/png": "[encoded data removed]",
            "text/plain": [
              "<Figure size 432x288 with 1 Axes>"
            ]
          },
          "metadata": {
            "tags": [],
            "needs_background": "light"
          }
        }
      ]
    },
    {
      "cell_type": "markdown",
      "metadata": {
        "id": "Kcmx3AFuFlAR",
        "colab_type": "text"
      },
      "source": [
        "학사 학위를 가진 사람보다 석사 학위를 가지고 있는 사람이 많으며, 박사학위를 가지고 있는 사람들도 많다."
      ]
    },
    {
      "cell_type": "code",
      "metadata": {
        "id": "ONDL7fjMxGqB",
        "colab_type": "code",
        "colab": {
          "base_uri": "https://localhost:8080/",
          "height": 514
        },
        "outputId": "095905e6-4c42-40c5-ce05-f48bc3aea487"
      },
      "source": [
        "pd.DataFrame(\n",
        "    mcq['MajorSelect'].value_counts())"
      ],
      "execution_count": 14,
      "outputs": [
        {
          "output_type": "execute_result",
          "data": {
            "text/html": [
              "<div>\n",
              "<style scoped>\n",
              "    .dataframe tbody tr th:only-of-type {\n",
              "        vertical-align: middle;\n",
              "    }\n",
              "\n",
              "    .dataframe tbody tr th {\n",
              "        vertical-align: top;\n",
              "    }\n",
              "\n",
              "    .dataframe thead th {\n",
              "        text-align: right;\n",
              "    }\n",
              "</style>\n",
              "<table border=\"1\" class=\"dataframe\">\n",
              "  <thead>\n",
              "    <tr style=\"text-align: right;\">\n",
              "      <th></th>\n",
              "      <th>MajorSelect</th>\n",
              "    </tr>\n",
              "  </thead>\n",
              "  <tbody>\n",
              "    <tr>\n",
              "      <th>Computer Science</th>\n",
              "      <td>4397</td>\n",
              "    </tr>\n",
              "    <tr>\n",
              "      <th>Mathematics or statistics</th>\n",
              "      <td>2220</td>\n",
              "    </tr>\n",
              "    <tr>\n",
              "      <th>Engineering (non-computer focused)</th>\n",
              "      <td>1339</td>\n",
              "    </tr>\n",
              "    <tr>\n",
              "      <th>Electrical Engineering</th>\n",
              "      <td>1303</td>\n",
              "    </tr>\n",
              "    <tr>\n",
              "      <th>Other</th>\n",
              "      <td>848</td>\n",
              "    </tr>\n",
              "    <tr>\n",
              "      <th>Physics</th>\n",
              "      <td>830</td>\n",
              "    </tr>\n",
              "    <tr>\n",
              "      <th>Information technology, networking, or system administration</th>\n",
              "      <td>693</td>\n",
              "    </tr>\n",
              "    <tr>\n",
              "      <th>A social science</th>\n",
              "      <td>531</td>\n",
              "    </tr>\n",
              "    <tr>\n",
              "      <th>Biology</th>\n",
              "      <td>274</td>\n",
              "    </tr>\n",
              "    <tr>\n",
              "      <th>Management information systems</th>\n",
              "      <td>237</td>\n",
              "    </tr>\n",
              "    <tr>\n",
              "      <th>A humanities discipline</th>\n",
              "      <td>198</td>\n",
              "    </tr>\n",
              "    <tr>\n",
              "      <th>A health science</th>\n",
              "      <td>152</td>\n",
              "    </tr>\n",
              "    <tr>\n",
              "      <th>Psychology</th>\n",
              "      <td>137</td>\n",
              "    </tr>\n",
              "    <tr>\n",
              "      <th>I never declared a major</th>\n",
              "      <td>65</td>\n",
              "    </tr>\n",
              "    <tr>\n",
              "      <th>Fine arts or performing arts</th>\n",
              "      <td>57</td>\n",
              "    </tr>\n",
              "  </tbody>\n",
              "</table>\n",
              "</div>"
            ],
            "text/plain": [
              "                                                    MajorSelect\n",
              "Computer Science                                           4397\n",
              "Mathematics or statistics                                  2220\n",
              "Engineering (non-computer focused)                         1339\n",
              "Electrical Engineering                                     1303\n",
              "Other                                                       848\n",
              "Physics                                                     830\n",
              "Information technology, networking, or system a...          693\n",
              "A social science                                            531\n",
              "Biology                                                     274\n",
              "Management information systems                              237\n",
              "A humanities discipline                                     198\n",
              "A health science                                            152\n",
              "Psychology                                                  137\n",
              "I never declared a major                                     65\n",
              "Fine arts or performing arts                                 57"
            ]
          },
          "metadata": {
            "tags": []
          },
          "execution_count": 14
        }
      ]
    },
    {
      "cell_type": "markdown",
      "metadata": {
        "id": "q7dRVv_tFnsr",
        "colab_type": "text"
      },
      "source": [
        "#전공"
      ]
    },
    {
      "cell_type": "code",
      "metadata": {
        "id": "0xlsZpuIFj24",
        "colab_type": "code",
        "colab": {
          "base_uri": "https://localhost:8080/",
          "height": 514
        },
        "outputId": "e76c692b-38aa-421d-d992-97790eb81781"
      },
      "source": [
        "# value_counts 를 사용하면 그룹화 된 데이터의 카운트 값을 보여준다. \n",
        "# normalize=True 옵션을 사용하면, \n",
        "# 해당 데이터가 전체 데이터에서 어느정도의 비율을 차지하는지 알 수 있다.\n",
        "mcq_major_count = pd.DataFrame(mcq['MajorSelect'].value_counts())\n",
        "mcq_major_percent = pd.DataFrame(mcq['MajorSelect'].value_counts(normalize=True))\n",
        "mcq_major_df = mcq_major_count.merge(mcq_major_percent, left_index=True, right_index=True)\n",
        "mcq_major_df.columns = ['응답 수', '비율']\n",
        "mcq_major_df"
      ],
      "execution_count": 15,
      "outputs": [
        {
          "output_type": "execute_result",
          "data": {
            "text/html": [
              "<div>\n",
              "<style scoped>\n",
              "    .dataframe tbody tr th:only-of-type {\n",
              "        vertical-align: middle;\n",
              "    }\n",
              "\n",
              "    .dataframe tbody tr th {\n",
              "        vertical-align: top;\n",
              "    }\n",
              "\n",
              "    .dataframe thead th {\n",
              "        text-align: right;\n",
              "    }\n",
              "</style>\n",
              "<table border=\"1\" class=\"dataframe\">\n",
              "  <thead>\n",
              "    <tr style=\"text-align: right;\">\n",
              "      <th></th>\n",
              "      <th>응답 수</th>\n",
              "      <th>비율</th>\n",
              "    </tr>\n",
              "  </thead>\n",
              "  <tbody>\n",
              "    <tr>\n",
              "      <th>Computer Science</th>\n",
              "      <td>4397</td>\n",
              "      <td>0.331074</td>\n",
              "    </tr>\n",
              "    <tr>\n",
              "      <th>Mathematics or statistics</th>\n",
              "      <td>2220</td>\n",
              "      <td>0.167156</td>\n",
              "    </tr>\n",
              "    <tr>\n",
              "      <th>Engineering (non-computer focused)</th>\n",
              "      <td>1339</td>\n",
              "      <td>0.100821</td>\n",
              "    </tr>\n",
              "    <tr>\n",
              "      <th>Electrical Engineering</th>\n",
              "      <td>1303</td>\n",
              "      <td>0.098110</td>\n",
              "    </tr>\n",
              "    <tr>\n",
              "      <th>Other</th>\n",
              "      <td>848</td>\n",
              "      <td>0.063851</td>\n",
              "    </tr>\n",
              "    <tr>\n",
              "      <th>Physics</th>\n",
              "      <td>830</td>\n",
              "      <td>0.062495</td>\n",
              "    </tr>\n",
              "    <tr>\n",
              "      <th>Information technology, networking, or system administration</th>\n",
              "      <td>693</td>\n",
              "      <td>0.052180</td>\n",
              "    </tr>\n",
              "    <tr>\n",
              "      <th>A social science</th>\n",
              "      <td>531</td>\n",
              "      <td>0.039982</td>\n",
              "    </tr>\n",
              "    <tr>\n",
              "      <th>Biology</th>\n",
              "      <td>274</td>\n",
              "      <td>0.020631</td>\n",
              "    </tr>\n",
              "    <tr>\n",
              "      <th>Management information systems</th>\n",
              "      <td>237</td>\n",
              "      <td>0.017845</td>\n",
              "    </tr>\n",
              "    <tr>\n",
              "      <th>A humanities discipline</th>\n",
              "      <td>198</td>\n",
              "      <td>0.014909</td>\n",
              "    </tr>\n",
              "    <tr>\n",
              "      <th>A health science</th>\n",
              "      <td>152</td>\n",
              "      <td>0.011445</td>\n",
              "    </tr>\n",
              "    <tr>\n",
              "      <th>Psychology</th>\n",
              "      <td>137</td>\n",
              "      <td>0.010315</td>\n",
              "    </tr>\n",
              "    <tr>\n",
              "      <th>I never declared a major</th>\n",
              "      <td>65</td>\n",
              "      <td>0.004894</td>\n",
              "    </tr>\n",
              "    <tr>\n",
              "      <th>Fine arts or performing arts</th>\n",
              "      <td>57</td>\n",
              "      <td>0.004292</td>\n",
              "    </tr>\n",
              "  </tbody>\n",
              "</table>\n",
              "</div>"
            ],
            "text/plain": [
              "                                                    응답 수        비율\n",
              "Computer Science                                    4397  0.331074\n",
              "Mathematics or statistics                           2220  0.167156\n",
              "Engineering (non-computer focused)                  1339  0.100821\n",
              "Electrical Engineering                              1303  0.098110\n",
              "Other                                                848  0.063851\n",
              "Physics                                              830  0.062495\n",
              "Information technology, networking, or system a...   693  0.052180\n",
              "A social science                                     531  0.039982\n",
              "Biology                                              274  0.020631\n",
              "Management information systems                       237  0.017845\n",
              "A humanities discipline                              198  0.014909\n",
              "A health science                                     152  0.011445\n",
              "Psychology                                           137  0.010315\n",
              "I never declared a major                              65  0.004894\n",
              "Fine arts or performing arts                          57  0.004292"
            ]
          },
          "metadata": {
            "tags": []
          },
          "execution_count": 15
        }
      ]
    },
    {
      "cell_type": "markdown",
      "metadata": {
        "id": "GRkUKsWhFrge",
        "colab_type": "text"
      },
      "source": [
        "컴퓨터 전공자들이 33%로 가장 많으며, 다음으로 수학, 공학, 전기 공학 순이다."
      ]
    },
    {
      "cell_type": "code",
      "metadata": {
        "id": "n628BCmRFqKQ",
        "colab_type": "code",
        "colab": {
          "base_uri": "https://localhost:8080/",
          "height": 515
        },
        "outputId": "2397f2fa-1adb-4819-d0c4-f1580c811f7f"
      },
      "source": [
        "# 재학중인 사람들의 전공 현황\n",
        "plt.figure(figsize=(6,8))\n",
        "sns.countplot(y='MajorSelect', data=mcq)"
      ],
      "execution_count": 16,
      "outputs": [
        {
          "output_type": "execute_result",
          "data": {
            "text/plain": [
              "<matplotlib.axes._subplots.AxesSubplot at 0x7f48322a8828>"
            ]
          },
          "metadata": {
            "tags": []
          },
          "execution_count": 16
        },
        {
          "output_type": "display_data",
          "data": {
            "image/png": "[encoded data removed]",
            "text/plain": [
              "<Figure size 432x576 with 1 Axes>"
            ]
          },
          "metadata": {
            "tags": [],
            "needs_background": "light"
          }
        }
      ]
    },
    {
      "cell_type": "markdown",
      "metadata": {
        "id": "TZ5oUVKdFuVF",
        "colab_type": "text"
      },
      "source": [
        "#취업 여부"
      ]
    },
    {
      "cell_type": "code",
      "metadata": {
        "id": "2DbZqzAoFtNf",
        "colab_type": "code",
        "colab": {
          "base_uri": "https://localhost:8080/",
          "height": 266
        },
        "outputId": "2f5acf48-c05b-45b4-bfc1-5345d0e1ea15"
      },
      "source": [
        "mcq_es_count = pd.DataFrame(mcq['EmploymentStatus'].value_counts())\n",
        "mcq_es_percent = pd.DataFrame(mcq['EmploymentStatus'].value_counts(normalize=True))\n",
        "mcq_es_df = mcq_es_count.merge(mcq_es_percent, left_index=True, right_index=True)\n",
        "mcq_es_df.columns = ['응답 수', '비율']\n",
        "mcq_es_df"
      ],
      "execution_count": 17,
      "outputs": [
        {
          "output_type": "execute_result",
          "data": {
            "text/html": [
              "<div>\n",
              "<style scoped>\n",
              "    .dataframe tbody tr th:only-of-type {\n",
              "        vertical-align: middle;\n",
              "    }\n",
              "\n",
              "    .dataframe tbody tr th {\n",
              "        vertical-align: top;\n",
              "    }\n",
              "\n",
              "    .dataframe thead th {\n",
              "        text-align: right;\n",
              "    }\n",
              "</style>\n",
              "<table border=\"1\" class=\"dataframe\">\n",
              "  <thead>\n",
              "    <tr style=\"text-align: right;\">\n",
              "      <th></th>\n",
              "      <th>응답 수</th>\n",
              "      <th>비율</th>\n",
              "    </tr>\n",
              "  </thead>\n",
              "  <tbody>\n",
              "    <tr>\n",
              "      <th>Employed full-time</th>\n",
              "      <td>10897</td>\n",
              "      <td>0.651890</td>\n",
              "    </tr>\n",
              "    <tr>\n",
              "      <th>Not employed, but looking for work</th>\n",
              "      <td>2110</td>\n",
              "      <td>0.126226</td>\n",
              "    </tr>\n",
              "    <tr>\n",
              "      <th>Independent contractor, freelancer, or self-employed</th>\n",
              "      <td>1330</td>\n",
              "      <td>0.079564</td>\n",
              "    </tr>\n",
              "    <tr>\n",
              "      <th>Not employed, and not looking for work</th>\n",
              "      <td>924</td>\n",
              "      <td>0.055276</td>\n",
              "    </tr>\n",
              "    <tr>\n",
              "      <th>Employed part-time</th>\n",
              "      <td>917</td>\n",
              "      <td>0.054858</td>\n",
              "    </tr>\n",
              "    <tr>\n",
              "      <th>I prefer not to say</th>\n",
              "      <td>420</td>\n",
              "      <td>0.025126</td>\n",
              "    </tr>\n",
              "    <tr>\n",
              "      <th>Retired</th>\n",
              "      <td>118</td>\n",
              "      <td>0.007059</td>\n",
              "    </tr>\n",
              "  </tbody>\n",
              "</table>\n",
              "</div>"
            ],
            "text/plain": [
              "                                                     응답 수        비율\n",
              "Employed full-time                                  10897  0.651890\n",
              "Not employed, but looking for work                   2110  0.126226\n",
              "Independent contractor, freelancer, or self-emp...   1330  0.079564\n",
              "Not employed, and not looking for work                924  0.055276\n",
              "Employed part-time                                    917  0.054858\n",
              "I prefer not to say                                   420  0.025126\n",
              "Retired                                               118  0.007059"
            ]
          },
          "metadata": {
            "tags": []
          },
          "execution_count": 17
        }
      ]
    },
    {
      "cell_type": "code",
      "metadata": {
        "id": "tSRWmutfFxue",
        "colab_type": "code",
        "colab": {
          "base_uri": "https://localhost:8080/",
          "height": 297
        },
        "outputId": "69f440f4-eaa7-4fdd-e043-97a53912d6b6"
      },
      "source": [
        "sns.countplot(y='EmploymentStatus', data=mcq)"
      ],
      "execution_count": 18,
      "outputs": [
        {
          "output_type": "execute_result",
          "data": {
            "text/plain": [
              "<matplotlib.axes._subplots.AxesSubplot at 0x7f4830f88c50>"
            ]
          },
          "metadata": {
            "tags": []
          },
          "execution_count": 18
        },
        {
          "output_type": "display_data",
          "data": {
            "image/png": "[encoded data removed]",
            "text/plain": [
              "<Figure size 432x288 with 1 Axes>"
            ]
          },
          "metadata": {
            "tags": [],
            "needs_background": "light"
          }
        }
      ]
    },
    {
      "cell_type": "markdown",
      "metadata": {
        "id": "iz8BLIdIF1XC",
        "colab_type": "text"
      },
      "source": [
        "응답자의 대부분이 65%가 풀타임으로 일하고 있으며, 그 다음으로 구직자가 12%다."
      ]
    },
    {
      "cell_type": "markdown",
      "metadata": {
        "id": "TPqHUY4FF2O3",
        "colab_type": "text"
      },
      "source": [
        "#프로그래밍 경험"
      ]
    },
    {
      "cell_type": "markdown",
      "metadata": {
        "id": "8vQomUP3F71s",
        "colab_type": "text"
      },
      "source": [
        "* 'Tenure'항목은 데이터사이언스 분야에서 코딩 경험이 얼마나 되는지에 대한 질문이다. 대부분이 5년 미만이며, 특히 1~2년의 경험을 가진 사람들이 많다."
      ]
    },
    {
      "cell_type": "code",
      "metadata": {
        "id": "BlTmgAWTF0J4",
        "colab_type": "code",
        "colab": {
          "base_uri": "https://localhost:8080/",
          "height": 297
        },
        "outputId": "a77d0e4f-8173-4900-ddae-61bc280c2b32"
      },
      "source": [
        "sns.countplot(y='Tenure', data=mcq)"
      ],
      "execution_count": 19,
      "outputs": [
        {
          "output_type": "execute_result",
          "data": {
            "text/plain": [
              "<matplotlib.axes._subplots.AxesSubplot at 0x7f4830f1edd8>"
            ]
          },
          "metadata": {
            "tags": []
          },
          "execution_count": 19
        },
        {
          "output_type": "display_data",
          "data": {
            "image/png": "[encoded data removed]",
            "text/plain": [
              "<Figure size 432x288 with 1 Axes>"
            ]
          },
          "metadata": {
            "tags": [],
            "needs_background": "light"
          }
        }
      ]
    },
    {
      "cell_type": "code",
      "metadata": {
        "id": "CJO_vTbrF_S2",
        "colab_type": "code",
        "colab": {
          "base_uri": "https://localhost:8080/",
          "height": 313
        },
        "outputId": "baaf23b5-050e-4142-a5a6-b6085c44d5c9"
      },
      "source": [
        "korea = mcq.loc[(mcq['Country']=='South Korea')]\n",
        "\n",
        "print('The number of interviewees in Korea: ' + str(korea.shape[0]))\n",
        "\n",
        "sns.distplot(korea['Age'].dropna())\n",
        "plt.title('Korean')\n",
        "plt.show()"
      ],
      "execution_count": 20,
      "outputs": [
        {
          "output_type": "stream",
          "text": [
            "The number of interviewees in Korea: 194\n"
          ],
          "name": "stdout"
        },
        {
          "output_type": "display_data",
          "data": {
            "image/png": "[encoded data removed]",
            "text/plain": [
              "<Figure size 432x288 with 1 Axes>"
            ]
          },
          "metadata": {
            "tags": [],
            "needs_background": "light"
          }
        }
      ]
    },
    {
      "cell_type": "code",
      "metadata": {
        "id": "Vb0wgFdaGBHw",
        "colab_type": "code",
        "colab": {
          "base_uri": "https://localhost:8080/",
          "height": 142
        },
        "outputId": "777f806a-121f-4711-ddef-4c19f05494dd"
      },
      "source": [
        "pd.DataFrame(korea['GenderSelect'].value_counts())"
      ],
      "execution_count": 21,
      "outputs": [
        {
          "output_type": "execute_result",
          "data": {
            "text/html": [
              "<div>\n",
              "<style scoped>\n",
              "    .dataframe tbody tr th:only-of-type {\n",
              "        vertical-align: middle;\n",
              "    }\n",
              "\n",
              "    .dataframe tbody tr th {\n",
              "        vertical-align: top;\n",
              "    }\n",
              "\n",
              "    .dataframe thead th {\n",
              "        text-align: right;\n",
              "    }\n",
              "</style>\n",
              "<table border=\"1\" class=\"dataframe\">\n",
              "  <thead>\n",
              "    <tr style=\"text-align: right;\">\n",
              "      <th></th>\n",
              "      <th>GenderSelect</th>\n",
              "    </tr>\n",
              "  </thead>\n",
              "  <tbody>\n",
              "    <tr>\n",
              "      <th>Male</th>\n",
              "      <td>156</td>\n",
              "    </tr>\n",
              "    <tr>\n",
              "      <th>Female</th>\n",
              "      <td>37</td>\n",
              "    </tr>\n",
              "    <tr>\n",
              "      <th>A different identity</th>\n",
              "      <td>1</td>\n",
              "    </tr>\n",
              "  </tbody>\n",
              "</table>\n",
              "</div>"
            ],
            "text/plain": [
              "                      GenderSelect\n",
              "Male                           156\n",
              "Female                          37\n",
              "A different identity             1"
            ]
          },
          "metadata": {
            "tags": []
          },
          "execution_count": 21
        }
      ]
    },
    {
      "cell_type": "code",
      "metadata": {
        "id": "eQ9Cq-ELGDjq",
        "colab_type": "code",
        "colab": {
          "base_uri": "https://localhost:8080/",
          "height": 313
        },
        "outputId": "60c95c61-2684-4358-cd5c-4bf2f850182d"
      },
      "source": [
        "sns.countplot(x='GenderSelect', data=korea)\n",
        "plt.title('Korean')"
      ],
      "execution_count": 22,
      "outputs": [
        {
          "output_type": "execute_result",
          "data": {
            "text/plain": [
              "Text(0.5, 1.0, 'Korean')"
            ]
          },
          "metadata": {
            "tags": []
          },
          "execution_count": 22
        },
        {
          "output_type": "display_data",
          "data": {
            "image/png": "[encoded data removed]",
            "text/plain": [
              "<Figure size 432x288 with 1 Axes>"
            ]
          },
          "metadata": {
            "tags": [],
            "needs_background": "light"
          }
        }
      ]
    },
    {
      "cell_type": "code",
      "metadata": {
        "id": "77EEgpfnGEiA",
        "colab_type": "code",
        "colab": {
          "base_uri": "https://localhost:8080/",
          "height": 368
        },
        "outputId": "7530f684-3bae-4505-c964-cab708b59a64"
      },
      "source": [
        "figure, (ax1, ax2) = plt.subplots(ncols=2)\n",
        "\n",
        "figure.set_size_inches(12,5)\n",
        "sns.distplot(korea['Age'].loc[korea['GenderSelect']=='Female'].dropna(), \n",
        "             norm_hist=False, color=sns.color_palette(\"Paired\")[4], ax=ax1)\n",
        "plt.title('korean Female')\n",
        "\n",
        "sns.distplot(korea['Age'].loc[korea['GenderSelect']=='Male'].dropna(), \n",
        "             norm_hist=False, color=sns.color_palette(\"Paired\")[0], ax=ax2)\n",
        "plt.title('korean Male')"
      ],
      "execution_count": 23,
      "outputs": [
        {
          "output_type": "execute_result",
          "data": {
            "text/plain": [
              "Text(0.5, 1.0, 'korean Male')"
            ]
          },
          "metadata": {
            "tags": []
          },
          "execution_count": 23
        },
        {
          "output_type": "display_data",
          "data": {
            "image/png": "[encoded data removed]",
            "text/plain": [
              "<Figure size 864x360 with 2 Axes>"
            ]
          },
          "metadata": {
            "tags": [],
            "needs_background": "light"
          }
        }
      ]
    },
    {
      "cell_type": "code",
      "metadata": {
        "id": "C97foITdGHTq",
        "colab_type": "code",
        "colab": {
          "base_uri": "https://localhost:8080/",
          "height": 412
        },
        "outputId": "dc844f09-5826-4d5b-d26f-fdfcd4b87acc"
      },
      "source": [
        "sns.barplot(x=korea['EmploymentStatus'].unique(), y=korea['EmploymentStatus'].value_counts()/len(korea))\n",
        "plt.xticks(rotation=30, ha='right')\n",
        "plt.title('Employment status of the korean')\n",
        "plt.ylabel('')\n",
        "plt.show()"
      ],
      "execution_count": 24,
      "outputs": [
        {
          "output_type": "display_data",
          "data": {
            "image/png": "[encoded data removed]",
            "text/plain": [
              "<Figure size 432x288 with 1 Axes>"
            ]
          },
          "metadata": {
            "tags": [],
            "needs_background": "light"
          }
        }
      ]
    },
    {
      "cell_type": "code",
      "metadata": {
        "id": "hXnMgLaZGKjG",
        "colab_type": "code",
        "colab": {
          "base_uri": "https://localhost:8080/",
          "height": 295
        },
        "outputId": "bc572b3c-32ba-4020-bc20-07c319087715"
      },
      "source": [
        "korea['StudentStatus'] = korea['StudentStatus'].fillna('No')\n",
        "sns.countplot(x='StudentStatus', data=korea)\n",
        "plt.title('korean')\n",
        "plt.show()"
      ],
      "execution_count": 25,
      "outputs": [
        {
          "output_type": "display_data",
          "data": {
            "image/png": "[encoded data removed]",
            "text/plain": [
              "<Figure size 432x288 with 1 Axes>"
            ]
          },
          "metadata": {
            "tags": [],
            "needs_background": "light"
          }
        }
      ]
    },
    {
      "cell_type": "code",
      "metadata": {
        "id": "ajacfQgJGOTk",
        "colab_type": "code",
        "colab": {
          "base_uri": "https://localhost:8080/",
          "height": 53
        },
        "outputId": "85dbae30-d355-4b05-c6b8-2dab5a352321"
      },
      "source": [
        "full_time = mcq.loc[(mcq['EmploymentStatus'] == 'Employed full-time')]\n",
        "print(full_time.shape)\n",
        "looking_for_job = mcq.loc[(mcq['EmploymentStatus'] == 'Not employed, but looking for work')]\n",
        "print(looking_for_job.shape)"
      ],
      "execution_count": 26,
      "outputs": [
        {
          "output_type": "stream",
          "text": [
            "(10897, 228)\n",
            "(2110, 228)\n"
          ],
          "name": "stdout"
        }
      ]
    }
  ]
}